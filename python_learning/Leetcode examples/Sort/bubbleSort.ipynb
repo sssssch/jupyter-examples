{
 "cells": [
  {
   "cell_type": "code",
   "execution_count": 2,
   "metadata": {},
   "outputs": [
    {
     "name": "stdout",
     "output_type": "stream",
     "text": [
      "[259, 708, 17, 788, 361, 641, 588, 636, 25, 9]\n"
     ]
    }
   ],
   "source": [
    "# %load /Users/mac/Downloads/深度学习资料/Leetcode/2/randomList.py\n",
    "#!/usr/bin/env python3\n",
    "#  File: /Users/king/Python初级算法/code/2/crateRandomList.py\n",
    "#  Project: /Users/king/Python初级算法/code/2\n",
    "#  Created Date: 2018/10/26\n",
    "#  Author: hstking hst_king@hotmail.com\n",
    "\n",
    "import random\n",
    "\n",
    "def randomList(n):\n",
    "    '''返回一个长度为n的整数列表，数据范围[0,1000) '''\n",
    "    iList = []\n",
    "    for i in range(n):\n",
    "        iList.append(random.randrange(1000))\n",
    "    return iList\n",
    "\n",
    "if __name__ == \"__main__\":\n",
    "    iList = randomList(10)\n",
    "    print(iList)"
   ]
  },
  {
   "cell_type": "code",
   "execution_count": 12,
   "metadata": {},
   "outputs": [
    {
     "name": "stdout",
     "output_type": "stream",
     "text": [
      "[565, 191, 629, 539, 658, 458, 920, 389, 241, 308, 70, 27, 894, 768, 828, 373, 910, 802, 253, 46]\n",
      "[27, 46, 70, 191, 241, 253, 308, 373, 389, 458, 539, 565, 629, 658, 768, 802, 828, 894, 910, 920]\n",
      "0.0032286699999986013\n"
     ]
    }
   ],
   "source": [
    "# %load /Users/mac/Downloads/深度学习资料/Leetcode/2/bubbleSort.py\n",
    "#!/usr/bin/env python3\n",
    "#  File: /Users/king/Python初级算法/code/2/bubbleSort.py\n",
    "#  Project: /Users/king/Python初级算法/code/2\n",
    "#  Created Date: 2018/10/26\n",
    "#  Author: hstking hst_king@hotmail.com\n",
    "\n",
    "\n",
    "\n",
    "import timeit\n",
    "iList = randomList(20)\n",
    "def bubbleSort(iList):\n",
    "    '''冒泡排序 '''\n",
    "    if len(iList) <= 1:\n",
    "        return iList\n",
    "    for i in range(1, len(iList)):\n",
    "        for j in range(0, len(iList)-i): \n",
    "            if iList[j] >= iList[j+1]: #比较相邻两数的大小\n",
    "                iList[j], iList[j+1] = iList[j+1], iList[j] #将大数交换到靠后的位置\n",
    "\n",
    "    return iList\n",
    "\n",
    "if __name__ == \"__main__\":\n",
    "    print(iList)\n",
    "    print(bubbleSort(iList))\n",
    "    print(timeit.timeit(\"bubbleSort(iList)\", \"from __main__ import bubbleSort,iList\", number=100))"
   ]
  }
 ],
 "metadata": {
  "kernelspec": {
   "display_name": "Python 3",
   "language": "python",
   "name": "python3"
  },
  "language_info": {
   "codemirror_mode": {
    "name": "ipython",
    "version": 3
   },
   "file_extension": ".py",
   "mimetype": "text/x-python",
   "name": "python",
   "nbconvert_exporter": "python",
   "pygments_lexer": "ipython3",
   "version": "3.8.3"
  }
 },
 "nbformat": 4,
 "nbformat_minor": 4
}
