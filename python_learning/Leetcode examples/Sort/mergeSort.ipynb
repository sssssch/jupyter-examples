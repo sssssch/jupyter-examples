{
 "cells": [
  {
   "cell_type": "code",
   "execution_count": 2,
   "metadata": {},
   "outputs": [
    {
     "name": "stdout",
     "output_type": "stream",
     "text": [
      "[667, 489, 996, 353, 598, 821, 626, 628, 328, 802, 646, 610, 905, 686, 38, 30, 405, 910, 273, 885]\n",
      "[30, 38, 273, 328, 353, 405, 489, 598, 610, 626, 628, 646, 667, 686, 802, 821, 885, 905, 910, 996]\n",
      "0.004932728999847313\n"
     ]
    }
   ],
   "source": [
    "# %load /Users/mac/Downloads/深度学习资料/Leetcode/2/mergeSort.py\n",
    "#!/usr/bin/env python3\n",
    "#  File: /Users/king/Python初级算法/code/2/mergeSort.py\n",
    "#  Project: /Users/king/Python初级算法/code/2\n",
    "#  Created Date: 2018/10/26\n",
    "#  Author: hstking hst_king@hotmail.com\n",
    "\n",
    "\n",
    "import random\n",
    "def randomList(n):\n",
    "    '''返回一个长度为n的整数列表，数据范围[0,1000) '''\n",
    "    iList = []\n",
    "    for i in range(n):\n",
    "        iList.append(random.randrange(1000))\n",
    "    return iList\n",
    "import timeit\n",
    "\n",
    "iList = randomList(20)\n",
    "\n",
    "def mergeSort(iList):\n",
    "    if len(iList) <= 1:\n",
    "        return iList\n",
    "    middle = len(iList)//2\n",
    "    left, right = iList[0:middle], iList[middle:]\n",
    "    return mergeList(mergeSort(left), mergeSort(right))\n",
    "\n",
    "def mergeList(left, right):\n",
    "    mList = []\n",
    "    while left and right:\n",
    "        if left[0] >= right[0]:\n",
    "            mList.append(right.pop(0))\n",
    "        else:\n",
    "            mList.append(left.pop(0))\n",
    "    while left:\n",
    "        mList.append(left.pop(0))\n",
    "    while right:\n",
    "        mList.append(right.pop(0))\n",
    "    return mList\n",
    "\n",
    "\n",
    "if __name__ == \"__main__\":\n",
    "    print(iList)\n",
    "    print(mergeSort(iList))\n",
    "    print(timeit.timeit(\"mergeSort(iList)\", \"from __main__ import mergeSort,iList\", number=100))"
   ]
  }
 ],
 "metadata": {
  "kernelspec": {
   "display_name": "Python 3",
   "language": "python",
   "name": "python3"
  },
  "language_info": {
   "codemirror_mode": {
    "name": "ipython",
    "version": 3
   },
   "file_extension": ".py",
   "mimetype": "text/x-python",
   "name": "python",
   "nbconvert_exporter": "python",
   "pygments_lexer": "ipython3",
   "version": "3.8.3"
  }
 },
 "nbformat": 4,
 "nbformat_minor": 4
}
