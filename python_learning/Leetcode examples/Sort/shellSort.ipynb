{
 "cells": [
  {
   "cell_type": "code",
   "execution_count": 6,
   "metadata": {},
   "outputs": [
    {
     "name": "stdout",
     "output_type": "stream",
     "text": [
      "[449, 608, 304, 281, 41, 705, 282, 364]\n",
      "[41, 608, 304, 281, 449, 705, 282, 364]\n",
      "[41, 608, 282, 281, 449, 705, 304, 364]\n",
      "[41, 281, 282, 608, 449, 705, 304, 364]\n",
      "[41, 281, 282, 608, 304, 705, 449, 364]\n",
      "[41, 281, 282, 364, 304, 705, 449, 608]\n",
      "[41, 281, 282, 364, 304, 608, 449, 705]\n",
      "[41, 281, 282, 304, 364, 608, 449, 705]\n",
      "[41, 281, 282, 304, 364, 449, 608, 705]\n",
      "[41, 281, 282, 304, 364, 449, 608, 705]\n",
      "0.0020179650000216043\n"
     ]
    }
   ],
   "source": [
    "# %load /Users/mac/Downloads/深度学习资料/Leetcode/2/shellSort.py\n",
    "#!/usr/bin/env python3\n",
    "#  File: /Users/king/Python初级算法/code/2/shellSort.py\n",
    "#  Project: /Users/king/Python初级算法/code/2\n",
    "#  Created Date: 2018/10/26\n",
    "#  Author: hstking hst_king@hotmail.com\n",
    "\n",
    "import random\n",
    "def randomList(n):\n",
    "    '''返回一个长度为n的整数列表，数据范围[0,1000) '''\n",
    "    iList = []\n",
    "    for i in range(n):\n",
    "        iList.append(random.randrange(1000))\n",
    "    return iList\n",
    "import timeit\n",
    "\n",
    "iList = randomList(8)\n",
    "\n",
    "def shellSort(iList):\n",
    "    if len(iList) <= 1:\n",
    "        return iList\n",
    "    # if len(iList) <= 20 :\n",
    "    #     n = 2\n",
    "    # else:\n",
    "    #     n = len(iList)//10 #子序列的个数\n",
    "    gap = len(iList)\n",
    "    while gap > 1:\n",
    "        # gap = gap//n\n",
    "        gap = gap//2\n",
    "        for i in range(gap, len(iList)):\n",
    "            for j in range(i%gap, i, gap):\n",
    "                if iList[i] < iList[j]:\n",
    "                    iList[i], iList[j] = iList[j], iList[i]\n",
    "                    print(iList)\n",
    "    return iList\n",
    "\n",
    "if __name__ == \"__main__\":\n",
    "    print(iList)\n",
    "    print(shellSort(iList))\n",
    "    print(timeit.timeit(\"shellSort(iList)\", \"from __main__ import shellSort,iList\", number=100))"
   ]
  }
 ],
 "metadata": {
  "kernelspec": {
   "display_name": "Python 3",
   "language": "python",
   "name": "python3"
  },
  "language_info": {
   "codemirror_mode": {
    "name": "ipython",
    "version": 3
   },
   "file_extension": ".py",
   "mimetype": "text/x-python",
   "name": "python",
   "nbconvert_exporter": "python",
   "pygments_lexer": "ipython3",
   "version": "3.8.3"
  }
 },
 "nbformat": 4,
 "nbformat_minor": 4
}
