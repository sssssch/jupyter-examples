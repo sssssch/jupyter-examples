{
 "cells": [
  {
   "cell_type": "code",
   "execution_count": 2,
   "metadata": {},
   "outputs": [
    {
     "name": "stdout",
     "output_type": "stream",
     "text": [
      "[198, 107, 482, 69, 403, 379, 110, 454, 926, 702, 80, 724, 363, 943, 121, 737, 59, 395, 480, 709]\n",
      "[59, 69, 80, 107, 110, 121, 198, 363, 379, 395, 403, 454, 480, 482, 702, 709, 724, 737, 926, 943]\n",
      "0.009567091999997501\n"
     ]
    }
   ],
   "source": [
    "# %load /Users/mac/Downloads/深度学习资料/Leetcode/2/countingSort.py\n",
    "#!/usr/bin/env python3\n",
    "#  File: /Users/king/Python初级算法/code/2/countingSort.py\n",
    "#  Project: /Users/king/Python初级算法/code/2\n",
    "#  Created Date: 2018/10/26\n",
    "#  Author: hstking hst_king@hotmail.com\n",
    "\n",
    "\n",
    "import random\n",
    "def randomList(n):\n",
    "    '''返回一个长度为n的整数列表，数据范围[0,1000) '''\n",
    "    iList = []\n",
    "    for i in range(n):\n",
    "        iList.append(random.randrange(1000))\n",
    "    return iList\n",
    "import timeit\n",
    "\n",
    "iList = randomList(20)\n",
    "\n",
    "def countingSort(iList):\n",
    "    if len(iList) <= 1:\n",
    "        return iList\n",
    "    iLen = len(iList)\n",
    "    rList = [None]*iLen\n",
    "    for i in range(iLen):\n",
    "        small = 0 #比基数小的\n",
    "        same = 0 #与基数相等的\n",
    "        for j in range(iLen):\n",
    "            if iList[j] < iList[i]:\n",
    "                small += 1\n",
    "            elif iList[j] == iList[i]: #相同的数\n",
    "                same += 1\n",
    "        for k in range(small, small+same):\n",
    "            rList[k] = iList[i]\n",
    "    return rList\n",
    "\n",
    "if __name__ == \"__main__\":\n",
    "    print(iList)\n",
    "    print(countingSort(iList))\n",
    "    print(timeit.timeit(\"countingSort(iList)\", \"from __main__ import countingSort,iList\", number=100))"
   ]
  }
 ],
 "metadata": {
  "kernelspec": {
   "display_name": "Python 3",
   "language": "python",
   "name": "python3"
  },
  "language_info": {
   "codemirror_mode": {
    "name": "ipython",
    "version": 3
   },
   "file_extension": ".py",
   "mimetype": "text/x-python",
   "name": "python",
   "nbconvert_exporter": "python",
   "pygments_lexer": "ipython3",
   "version": "3.8.3"
  }
 },
 "nbformat": 4,
 "nbformat_minor": 4
}
