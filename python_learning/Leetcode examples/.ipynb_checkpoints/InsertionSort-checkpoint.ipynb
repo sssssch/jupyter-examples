{
 "cells": [
  {
   "cell_type": "code",
   "execution_count": 7,
   "metadata": {},
   "outputs": [
    {
     "name": "stdout",
     "output_type": "stream",
     "text": [
      "[654, 15, 991, 671, 177, 339, 707, 355, 241, 112, 305, 120, 389, 751, 114, 157, 921, 260, 326, 206]\n",
      "[15, 112, 114, 120, 157, 177, 206, 241, 260, 305, 326, 339, 355, 389, 654, 671, 707, 751, 921, 991]\n",
      "0.0016987839990179054\n"
     ]
    }
   ],
   "source": [
    "# %load /Users/mac/Downloads/深度学习资料/Leetcode/2/InsertionSort.py\n",
    "#!/usr/bin/env python3\n",
    "#  File: /Users/king/Python初级算法/code/2/insertionSort.py\n",
    "#  Project: /Users/king/Python初级算法/code/2\n",
    "#  Created Date: 2018/10/26\n",
    "#  Author: hstking hst_king@hotmail.com\n",
    "\n",
    "\n",
    "import random\n",
    "def randomList(n):\n",
    "    '''返回一个长度为n的整数列表，数据范围[0,1000) '''\n",
    "    iList = []\n",
    "    for i in range(n):\n",
    "        iList.append(random.randrange(1000))\n",
    "    return iList\n",
    "import timeit\n",
    "\n",
    "iList = randomList(20)\n",
    "\n",
    "def insertionSort(iList):\n",
    "    if len(iList) <= 1:\n",
    "        return iList\n",
    "    for right in range(1, len(iList)):\n",
    "        target = iList[right]\n",
    "        for left in range(0, right):\n",
    "            if target <= iList[left]:\n",
    "                iList[left+1:right+1] = iList[left:right] #使用Python的切片赋值\n",
    "                iList[left] = target\n",
    "                break\n",
    "        # print(\"第 %d 轮排序结果:\" %(right), end=\"\")\n",
    "        # print(iList)\n",
    "    return iList\n",
    "\n",
    "if __name__ == \"__main__\":\n",
    "    print(iList)\n",
    "    print(insertionSort(iList))\n",
    "    print(timeit.timeit(\"insertionSort(iList)\", \"from __main__ import insertionSort,iList\", number=100))"
   ]
  }
 ],
 "metadata": {
  "kernelspec": {
   "display_name": "Python 3",
   "language": "python",
   "name": "python3"
  },
  "language_info": {
   "codemirror_mode": {
    "name": "ipython",
    "version": 3
   },
   "file_extension": ".py",
   "mimetype": "text/x-python",
   "name": "python",
   "nbconvert_exporter": "python",
   "pygments_lexer": "ipython3",
   "version": "3.8.3"
  }
 },
 "nbformat": 4,
 "nbformat_minor": 4
}
