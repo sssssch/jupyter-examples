{
 "cells": [
  {
   "cell_type": "code",
   "execution_count": 6,
   "metadata": {},
   "outputs": [
    {
     "name": "stdout",
     "output_type": "stream",
     "text": [
      "[809, 914, 549, 150, 624, 671, 643, 655, 976, 940, 171, 220, 207, 438, 329, 372, 655, 385, 464, 948]\n",
      "[150, 171, 207, 220, 329, 372, 385, 438, 464, 549, 624, 643, 940, 914, 671, 655, 655, 809, 948, 976]\n",
      "0.0016536460002498643\n"
     ]
    }
   ],
   "source": [
    "# %load /Users/mac/Downloads/深度学习资料/Leetcode/2/selectionSort.py\n",
    "#!/usr/bin/env python3\n",
    "#  File: /Users/king/Python初级算法/code/2/selectionSort.py\n",
    "#  Project: /Users/king/Python初级算法/code/2\n",
    "#  Created Date: 2018/10/26\n",
    "#  Author: hstking hst_king@hotmail.com\n",
    "import random\n",
    "def randomList(n):\n",
    "    '''返回一个长度为n的整数列表，数据范围[0,1000) '''\n",
    "    iList = []\n",
    "    for i in range(n):\n",
    "        iList.append(random.randrange(1000))\n",
    "    return iList\n",
    "\n",
    "import timeit\n",
    "\n",
    "iList = randomList(20)\n",
    "\n",
    "def selectionSort(iList):\n",
    "    if len(iList) <= 1:\n",
    "        return iList\n",
    "    for i in range(0, len(iList)-1):\n",
    "        if iList[i] != min(iList[i:]): #使用min函数找到剩余数列中最小的那个数\n",
    "            minIndex = iList.index(min(iList[i:])) #minIndex是最小数的序号(下标)\n",
    "            iList[i], iList[minIndex] = iList[minIndex], iList[i] #同时交换数据\n",
    "        # print(\"第 %d 轮排序结果:\" %(i+1), end=\"\")\n",
    "        # print(iList)\n",
    "    return iList\n",
    "\n",
    "if __name__ == \"__main__\":\n",
    "    print(iList)\n",
    "    print(selectionSort(iList))\n",
    "    print(timeit.timeit(\"selectionSort(iList)\", \"from __main__ import selectionSort,iList\", number=100))"
   ]
  }
 ],
 "metadata": {
  "kernelspec": {
   "display_name": "Python 3",
   "language": "python",
   "name": "python3"
  },
  "language_info": {
   "codemirror_mode": {
    "name": "ipython",
    "version": 3
   },
   "file_extension": ".py",
   "mimetype": "text/x-python",
   "name": "python",
   "nbconvert_exporter": "python",
   "pygments_lexer": "ipython3",
   "version": "3.8.3"
  }
 },
 "nbformat": 4,
 "nbformat_minor": 4
}
