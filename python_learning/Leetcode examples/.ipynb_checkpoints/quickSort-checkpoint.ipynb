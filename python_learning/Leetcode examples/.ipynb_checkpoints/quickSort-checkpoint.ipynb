{
 "cells": [
  {
   "cell_type": "code",
   "execution_count": 3,
   "metadata": {},
   "outputs": [
    {
     "name": "stdout",
     "output_type": "stream",
     "text": [
      "[578, 93, 233, 777, 134, 449, 385, 113, 151, 637, 619, 470, 599, 759, 893, 712, 607, 411, 124, 732]\n",
      "[93, 113, 124, 134, 151, 233, 385, 411, 449, 470, 578, 599, 607, 619, 637, 712, 732, 759, 777, 893]\n",
      "0.002807288999974844\n"
     ]
    }
   ],
   "source": [
    "# %load /Users/mac/Downloads/深度学习资料/Leetcode/2/quickSort.py\n",
    "#!/usr/bin/env python3\n",
    "#  File: /Users/king/Python初级算法/code/2/quickSort.py\n",
    "#  Project: /Users/king/Python初级算法/code/2\n",
    "#  Created Date: 2018/10/26\n",
    "#  Author: hstking hst_king@hotmail.com\n",
    "\n",
    "\n",
    "import random\n",
    "def randomList(n):\n",
    "    '''返回一个长度为n的整数列表，数据范围[0,1000) '''\n",
    "    iList = []\n",
    "    for i in range(n):\n",
    "        iList.append(random.randrange(1000))\n",
    "    return iList\n",
    "import timeit\n",
    "\n",
    "iList = randomList(20)\n",
    "\n",
    "def quickSort(iList):\n",
    "    if len(iList) <= 1:\n",
    "        return iList\n",
    "    left = []\n",
    "    right = []\n",
    "    for i in iList[1:]:\n",
    "        if i <= iList[0]:\n",
    "            left.append(i)\n",
    "        else:\n",
    "            right.append(i)\n",
    "    return quickSort(left) + [iList[0]] + quickSort(right)# 自己调用自己\n",
    "\n",
    "if __name__ == \"__main__\":\n",
    "    print(iList)\n",
    "    print(quickSort(iList))\n",
    "    print(timeit.timeit(\"quickSort(iList)\", \"from __main__ import quickSort,iList\", number=100))"
   ]
  }
 ],
 "metadata": {
  "kernelspec": {
   "display_name": "Python 3",
   "language": "python",
   "name": "python3"
  },
  "language_info": {
   "codemirror_mode": {
    "name": "ipython",
    "version": 3
   },
   "file_extension": ".py",
   "mimetype": "text/x-python",
   "name": "python",
   "nbconvert_exporter": "python",
   "pygments_lexer": "ipython3",
   "version": "3.8.3"
  }
 },
 "nbformat": 4,
 "nbformat_minor": 4
}
