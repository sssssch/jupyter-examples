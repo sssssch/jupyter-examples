{
 "cells": [
  {
   "cell_type": "code",
   "execution_count": 21,
   "metadata": {
    "colab": {},
    "colab_type": "code",
    "id": "BOwsuGQQY9OL"
   },
   "outputs": [],
   "source": [
    "from tensorflow.keras.preprocessing.sequence import pad_sequences\n",
    "from tensorflow.keras.layers import Embedding, LSTM, Dense, Dropout, Bidirectional\n",
    "from tensorflow.keras.preprocessing.text import Tokenizer\n",
    "from tensorflow.keras.models import Sequential\n",
    "from tensorflow.keras.optimizers import Adam\n",
    "from tensorflow.keras import regularizers\n",
    "import tensorflow.keras.utils as ku \n",
    "import numpy as np "
   ]
  },
  {
   "cell_type": "code",
   "execution_count": 37,
   "metadata": {
    "colab": {
     "base_uri": "https://localhost:8080/",
     "height": 224
    },
    "colab_type": "code",
    "id": "PRnDnCW-Z7qv",
    "outputId": "aa86b924-534b-4c2c-dac5-8f7d2f1c4227"
   },
   "outputs": [
    {
     "name": "stdout",
     "output_type": "stream",
     "text": [
      "--2020-07-06 13:29:23--  https://storage.googleapis.com/laurencemoroney-blog.appspot.com/sonnets.txt\n",
      "Resolving storage.googleapis.com (storage.googleapis.com)... 64.233.166.128, 74.125.133.128, 74.125.140.128, ...\n",
      "Connecting to storage.googleapis.com (storage.googleapis.com)|64.233.166.128|:443... connected.\n",
      "HTTP request sent, awaiting response... 200 OK\n",
      "Length: 93578 (91K) [text/plain]\n",
      "Saving to: ‘/tmp/sonnets.txt’\n",
      "\n",
      "\r",
      "/tmp/sonnets.txt      0%[                    ]       0  --.-KB/s               \r",
      "/tmp/sonnets.txt    100%[===================>]  91.38K  --.-KB/s    in 0.001s  \n",
      "\n",
      "2020-07-06 13:29:23 (120 MB/s) - ‘/tmp/sonnets.txt’ saved [93578/93578]\n",
      "\n"
     ]
    }
   ],
   "source": [
    "tokenizer = Tokenizer()\n",
    "!wget --no-check-certificate \\\n",
    "    https://storage.googleapis.com/laurencemoroney-blog.appspot.com/sonnets.txt \\\n",
    "    -O /tmp/sonnets.txt\n",
    "data = open('/tmp/sonnets.txt').read()\n",
    "\n",
    "corpus = data.lower().split(\"\\n\")\n",
    "\n",
    "tokenizer.fit_on_texts(corpus)\n",
    "total_words = len(tokenizer.word_index) + 1\n",
    "\n",
    "# create input sequences using list of tokens\n",
    "input_sequences = []\n",
    "for line in corpus:\n",
    "\ttoken_list = tokenizer.texts_to_sequences([line])[0]\n",
    "\tfor i in range(1, len(token_list)):\n",
    "\t\tn_gram_sequence = token_list[:i+1]\n",
    "\t\tinput_sequences.append(n_gram_sequence)\n",
    "\n",
    "\n",
    "# pad sequences \n",
    "max_sequence_len = max([len(x) for x in input_sequences])\n",
    "input_sequences = np.array(pad_sequences(input_sequences, maxlen=max_sequence_len, padding='pre'))\n",
    "\n",
    "# create predictors and label\n",
    "predictors, label = input_sequences[:,:-1],input_sequences[:,-1]\n",
    "\n",
    "label = ku.to_categorical(label, num_classes=total_words)"
   ]
  },
  {
   "cell_type": "code",
   "execution_count": 48,
   "metadata": {
    "colab": {
     "base_uri": "https://localhost:8080/",
     "height": 374
    },
    "colab_type": "code",
    "id": "w9vH8Y59ajYL",
    "outputId": "b7b74b23-31ee-4e83-d654-8c3fbf99c2c9"
   },
   "outputs": [
    {
     "name": "stdout",
     "output_type": "stream",
     "text": [
      "Model: \"sequential_16\"\n",
      "_________________________________________________________________\n",
      "Layer (type)                 Output Shape              Param #   \n",
      "=================================================================\n",
      "embedding_15 (Embedding)     (None, 10, 100)           321100    \n",
      "_________________________________________________________________\n",
      "bidirectional_18 (Bidirectio (None, 10, 300)           301200    \n",
      "_________________________________________________________________\n",
      "dropout_14 (Dropout)         (None, 10, 300)           0         \n",
      "_________________________________________________________________\n",
      "lstm_30 (LSTM)               (None, 10)                12440     \n",
      "_________________________________________________________________\n",
      "dense_22 (Dense)             (None, 64)                704       \n",
      "_________________________________________________________________\n",
      "dense_23 (Dense)             (None, 3211)              208715    \n",
      "=================================================================\n",
      "Total params: 844,159\n",
      "Trainable params: 844,159\n",
      "Non-trainable params: 0\n",
      "_________________________________________________________________\n",
      "None\n"
     ]
    }
   ],
   "source": [
    "model = Sequential()\n",
    "model.add(Embedding(total_words, 100, input_length=max_sequence_len-1))\n",
    "model.add(Bidirectional(LSTM(150, return_sequences = True)))\n",
    "model.add(Dropout(0.1))\n",
    "model.add(LSTM(10))\n",
    "model.add(Dense(64, activation='relu'))\n",
    "model.add(Dense(3211, activation='softmax'))\n",
    "# Pick an optimizer\n",
    "model.compile(loss='categorical_crossentropy', optimizer='adam', metrics=['accuracy'])\n",
    "print(model.summary())"
   ]
  },
  {
   "cell_type": "code",
   "execution_count": 51,
   "metadata": {
    "colab": {
     "base_uri": "https://localhost:8080/",
     "height": 1000
    },
    "colab_type": "code",
    "id": "AIg2f1HBxqof",
    "outputId": "767261e2-fdfd-4226-d42d-1b99b23eda06"
   },
   "outputs": [
    {
     "name": "stdout",
     "output_type": "stream",
     "text": [
      "Epoch 1/100\n",
      "387/387 - 8s - loss: 5.9455 - accuracy: 0.0433 - val_loss: 7.3528 - val_accuracy: 0.0294\n",
      "Epoch 2/100\n",
      "387/387 - 8s - loss: 5.8927 - accuracy: 0.0441 - val_loss: 7.3978 - val_accuracy: 0.0288\n",
      "Epoch 3/100\n",
      "387/387 - 8s - loss: 5.8447 - accuracy: 0.0493 - val_loss: 7.5055 - val_accuracy: 0.0288\n",
      "Epoch 4/100\n",
      "387/387 - 8s - loss: 5.7948 - accuracy: 0.0508 - val_loss: 7.5928 - val_accuracy: 0.0288\n",
      "Epoch 5/100\n",
      "387/387 - 8s - loss: 5.7420 - accuracy: 0.0528 - val_loss: 7.6936 - val_accuracy: 0.0301\n",
      "Epoch 6/100\n",
      "387/387 - 8s - loss: 5.6971 - accuracy: 0.0540 - val_loss: 7.7771 - val_accuracy: 0.0294\n",
      "Epoch 7/100\n",
      "387/387 - 8s - loss: 5.6490 - accuracy: 0.0548 - val_loss: 7.8309 - val_accuracy: 0.0291\n",
      "Epoch 8/100\n",
      "387/387 - 8s - loss: 5.6004 - accuracy: 0.0562 - val_loss: 7.9351 - val_accuracy: 0.0317\n",
      "Epoch 9/100\n",
      "387/387 - 8s - loss: 5.5491 - accuracy: 0.0572 - val_loss: 8.0151 - val_accuracy: 0.0314\n",
      "Epoch 10/100\n",
      "387/387 - 8s - loss: 5.4959 - accuracy: 0.0592 - val_loss: 8.0752 - val_accuracy: 0.0323\n",
      "Epoch 11/100\n",
      "387/387 - 8s - loss: 5.4409 - accuracy: 0.0585 - val_loss: 8.1910 - val_accuracy: 0.0301\n",
      "Epoch 12/100\n",
      "387/387 - 8s - loss: 5.3745 - accuracy: 0.0598 - val_loss: 8.2996 - val_accuracy: 0.0327\n",
      "Epoch 13/100\n",
      "387/387 - 8s - loss: 5.3097 - accuracy: 0.0637 - val_loss: 8.3537 - val_accuracy: 0.0365\n",
      "Epoch 14/100\n",
      "387/387 - 8s - loss: 5.2433 - accuracy: 0.0648 - val_loss: 8.4818 - val_accuracy: 0.0320\n",
      "Epoch 15/100\n",
      "387/387 - 8s - loss: 5.1743 - accuracy: 0.0717 - val_loss: 8.5705 - val_accuracy: 0.0385\n",
      "Epoch 16/100\n",
      "387/387 - 8s - loss: 5.1061 - accuracy: 0.0732 - val_loss: 8.6503 - val_accuracy: 0.0359\n",
      "Epoch 17/100\n",
      "387/387 - 8s - loss: 5.0419 - accuracy: 0.0742 - val_loss: 8.8237 - val_accuracy: 0.0310\n",
      "Epoch 18/100\n",
      "387/387 - 8s - loss: 4.9814 - accuracy: 0.0774 - val_loss: 8.9962 - val_accuracy: 0.0327\n",
      "Epoch 19/100\n",
      "387/387 - 8s - loss: 4.9206 - accuracy: 0.0807 - val_loss: 9.0732 - val_accuracy: 0.0369\n",
      "Epoch 20/100\n",
      "387/387 - 8s - loss: 4.8557 - accuracy: 0.0870 - val_loss: 9.2574 - val_accuracy: 0.0339\n",
      "Epoch 21/100\n",
      "387/387 - 8s - loss: 4.7970 - accuracy: 0.0872 - val_loss: 9.3819 - val_accuracy: 0.0307\n",
      "Epoch 22/100\n",
      "387/387 - 8s - loss: 4.7467 - accuracy: 0.0895 - val_loss: 9.5636 - val_accuracy: 0.0330\n",
      "Epoch 23/100\n",
      "387/387 - 8s - loss: 4.6843 - accuracy: 0.0930 - val_loss: 9.7529 - val_accuracy: 0.0336\n",
      "Epoch 24/100\n",
      "387/387 - 8s - loss: 4.6294 - accuracy: 0.0994 - val_loss: 9.9586 - val_accuracy: 0.0356\n",
      "Epoch 25/100\n",
      "387/387 - 8s - loss: 4.5831 - accuracy: 0.1003 - val_loss: 10.0271 - val_accuracy: 0.0362\n",
      "Epoch 26/100\n",
      "387/387 - 8s - loss: 4.5313 - accuracy: 0.1024 - val_loss: 10.2312 - val_accuracy: 0.0330\n",
      "Epoch 27/100\n",
      "387/387 - 8s - loss: 4.4714 - accuracy: 0.1081 - val_loss: 10.3313 - val_accuracy: 0.0310\n",
      "Epoch 28/100\n",
      "387/387 - 8s - loss: 4.4202 - accuracy: 0.1125 - val_loss: 10.5896 - val_accuracy: 0.0343\n",
      "Epoch 29/100\n",
      "387/387 - 8s - loss: 4.3734 - accuracy: 0.1165 - val_loss: 10.8511 - val_accuracy: 0.0365\n",
      "Epoch 30/100\n",
      "387/387 - 8s - loss: 4.3238 - accuracy: 0.1211 - val_loss: 10.9673 - val_accuracy: 0.0330\n",
      "Epoch 31/100\n",
      "387/387 - 8s - loss: 4.2755 - accuracy: 0.1250 - val_loss: 11.1654 - val_accuracy: 0.0317\n",
      "Epoch 32/100\n",
      "387/387 - 8s - loss: 4.2286 - accuracy: 0.1277 - val_loss: 11.4160 - val_accuracy: 0.0333\n",
      "Epoch 33/100\n",
      "387/387 - 8s - loss: 4.1749 - accuracy: 0.1358 - val_loss: 11.6371 - val_accuracy: 0.0320\n",
      "Epoch 34/100\n",
      "387/387 - 8s - loss: 4.1295 - accuracy: 0.1391 - val_loss: 11.8663 - val_accuracy: 0.0307\n",
      "Epoch 35/100\n",
      "387/387 - 8s - loss: 4.0836 - accuracy: 0.1422 - val_loss: 12.1047 - val_accuracy: 0.0362\n",
      "Epoch 36/100\n",
      "387/387 - 8s - loss: 4.0397 - accuracy: 0.1453 - val_loss: 12.3340 - val_accuracy: 0.0356\n",
      "Epoch 37/100\n",
      "387/387 - 8s - loss: 3.9893 - accuracy: 0.1534 - val_loss: 12.5750 - val_accuracy: 0.0320\n",
      "Epoch 38/100\n",
      "387/387 - 8s - loss: 3.9610 - accuracy: 0.1582 - val_loss: 12.7909 - val_accuracy: 0.0320\n",
      "Epoch 39/100\n",
      "387/387 - 8s - loss: 3.9139 - accuracy: 0.1658 - val_loss: 12.9163 - val_accuracy: 0.0327\n",
      "Epoch 40/100\n",
      "387/387 - 8s - loss: 3.8713 - accuracy: 0.1705 - val_loss: 13.2072 - val_accuracy: 0.0339\n",
      "Epoch 41/100\n",
      "387/387 - 8s - loss: 3.8323 - accuracy: 0.1758 - val_loss: 13.3832 - val_accuracy: 0.0304\n",
      "Epoch 42/100\n",
      "387/387 - 8s - loss: 3.7855 - accuracy: 0.1802 - val_loss: 13.5682 - val_accuracy: 0.0307\n",
      "Epoch 43/100\n",
      "387/387 - 8s - loss: 3.7511 - accuracy: 0.1872 - val_loss: 13.8208 - val_accuracy: 0.0323\n",
      "Epoch 44/100\n",
      "387/387 - 8s - loss: 3.7148 - accuracy: 0.1923 - val_loss: 13.9098 - val_accuracy: 0.0310\n",
      "Epoch 45/100\n",
      "387/387 - 8s - loss: 3.6682 - accuracy: 0.2007 - val_loss: 14.2640 - val_accuracy: 0.0314\n",
      "Epoch 46/100\n",
      "387/387 - 8s - loss: 3.6322 - accuracy: 0.2028 - val_loss: 14.4376 - val_accuracy: 0.0310\n",
      "Epoch 47/100\n",
      "387/387 - 8s - loss: 3.5978 - accuracy: 0.2137 - val_loss: 14.7349 - val_accuracy: 0.0317\n",
      "Epoch 48/100\n",
      "387/387 - 8s - loss: 3.5912 - accuracy: 0.2116 - val_loss: 14.8541 - val_accuracy: 0.0288\n",
      "Epoch 49/100\n",
      "387/387 - 8s - loss: 3.5464 - accuracy: 0.2177 - val_loss: 15.1450 - val_accuracy: 0.0291\n",
      "Epoch 50/100\n",
      "387/387 - 8s - loss: 3.4857 - accuracy: 0.2300 - val_loss: 15.2823 - val_accuracy: 0.0307\n",
      "Epoch 51/100\n",
      "387/387 - 8s - loss: 3.4519 - accuracy: 0.2338 - val_loss: 15.6371 - val_accuracy: 0.0320\n",
      "Epoch 52/100\n",
      "387/387 - 8s - loss: 3.4193 - accuracy: 0.2370 - val_loss: 15.8263 - val_accuracy: 0.0291\n",
      "Epoch 53/100\n",
      "387/387 - 8s - loss: 3.3914 - accuracy: 0.2474 - val_loss: 16.1442 - val_accuracy: 0.0291\n",
      "Epoch 54/100\n",
      "387/387 - 8s - loss: 3.3494 - accuracy: 0.2511 - val_loss: 16.1445 - val_accuracy: 0.0310\n",
      "Epoch 55/100\n",
      "387/387 - 8s - loss: 3.3299 - accuracy: 0.2529 - val_loss: 16.5175 - val_accuracy: 0.0262\n",
      "Epoch 56/100\n",
      "387/387 - 8s - loss: 3.2790 - accuracy: 0.2597 - val_loss: 16.8054 - val_accuracy: 0.0294\n",
      "Epoch 57/100\n",
      "387/387 - 8s - loss: 3.2785 - accuracy: 0.2631 - val_loss: 16.8481 - val_accuracy: 0.0272\n",
      "Epoch 58/100\n",
      "387/387 - 8s - loss: 3.2410 - accuracy: 0.2724 - val_loss: 16.8835 - val_accuracy: 0.0314\n",
      "Epoch 59/100\n",
      "387/387 - 8s - loss: 3.2012 - accuracy: 0.2767 - val_loss: 17.1716 - val_accuracy: 0.0336\n",
      "Epoch 60/100\n",
      "387/387 - 8s - loss: 3.1642 - accuracy: 0.2855 - val_loss: 17.4125 - val_accuracy: 0.0288\n",
      "Epoch 61/100\n",
      "387/387 - 8s - loss: 3.1276 - accuracy: 0.2905 - val_loss: 17.5124 - val_accuracy: 0.0288\n",
      "Epoch 62/100\n",
      "387/387 - 8s - loss: 3.1047 - accuracy: 0.2936 - val_loss: 17.8086 - val_accuracy: 0.0288\n",
      "Epoch 63/100\n",
      "387/387 - 8s - loss: 3.0829 - accuracy: 0.2954 - val_loss: 17.8814 - val_accuracy: 0.0275\n",
      "Epoch 64/100\n",
      "387/387 - 8s - loss: 3.0513 - accuracy: 0.3041 - val_loss: 18.1643 - val_accuracy: 0.0314\n",
      "Epoch 65/100\n",
      "387/387 - 8s - loss: 3.0198 - accuracy: 0.3067 - val_loss: 18.4002 - val_accuracy: 0.0304\n",
      "Epoch 66/100\n",
      "387/387 - 8s - loss: 2.9935 - accuracy: 0.3147 - val_loss: 18.4098 - val_accuracy: 0.0304\n",
      "Epoch 67/100\n",
      "387/387 - 8s - loss: 2.9742 - accuracy: 0.3206 - val_loss: 18.6799 - val_accuracy: 0.0297\n",
      "Epoch 68/100\n",
      "387/387 - 8s - loss: 2.9234 - accuracy: 0.3258 - val_loss: 18.8555 - val_accuracy: 0.0294\n",
      "Epoch 69/100\n",
      "387/387 - 8s - loss: 2.8977 - accuracy: 0.3299 - val_loss: 19.1471 - val_accuracy: 0.0268\n",
      "Epoch 70/100\n",
      "387/387 - 8s - loss: 2.8735 - accuracy: 0.3392 - val_loss: 19.2257 - val_accuracy: 0.0291\n",
      "Epoch 71/100\n",
      "387/387 - 8s - loss: 2.8439 - accuracy: 0.3430 - val_loss: 19.3790 - val_accuracy: 0.0307\n",
      "Epoch 72/100\n",
      "387/387 - 8s - loss: 2.8128 - accuracy: 0.3497 - val_loss: 19.5683 - val_accuracy: 0.0275\n",
      "Epoch 73/100\n",
      "387/387 - 8s - loss: 2.7936 - accuracy: 0.3586 - val_loss: 19.6231 - val_accuracy: 0.0265\n",
      "Epoch 74/100\n",
      "387/387 - 8s - loss: 2.7723 - accuracy: 0.3606 - val_loss: 20.0485 - val_accuracy: 0.0275\n",
      "Epoch 75/100\n",
      "387/387 - 8s - loss: 2.7448 - accuracy: 0.3675 - val_loss: 20.1617 - val_accuracy: 0.0294\n",
      "Epoch 76/100\n",
      "387/387 - 8s - loss: 2.7228 - accuracy: 0.3720 - val_loss: 20.1243 - val_accuracy: 0.0285\n",
      "Epoch 77/100\n",
      "387/387 - 8s - loss: 2.6963 - accuracy: 0.3743 - val_loss: 20.5935 - val_accuracy: 0.0262\n",
      "Epoch 78/100\n",
      "387/387 - 8s - loss: 2.6555 - accuracy: 0.3867 - val_loss: 20.6393 - val_accuracy: 0.0281\n",
      "Epoch 79/100\n",
      "387/387 - 8s - loss: 2.6331 - accuracy: 0.3912 - val_loss: 21.0108 - val_accuracy: 0.0272\n",
      "Epoch 80/100\n",
      "387/387 - 8s - loss: 2.6163 - accuracy: 0.3938 - val_loss: 21.0795 - val_accuracy: 0.0281\n",
      "Epoch 81/100\n",
      "387/387 - 8s - loss: 2.5784 - accuracy: 0.4005 - val_loss: 21.2930 - val_accuracy: 0.0294\n",
      "Epoch 82/100\n",
      "387/387 - 8s - loss: 2.5576 - accuracy: 0.3998 - val_loss: 21.6276 - val_accuracy: 0.0307\n",
      "Epoch 83/100\n",
      "387/387 - 8s - loss: 2.5518 - accuracy: 0.4060 - val_loss: 21.6472 - val_accuracy: 0.0304\n",
      "Epoch 84/100\n",
      "387/387 - 8s - loss: 2.5136 - accuracy: 0.4137 - val_loss: 21.6657 - val_accuracy: 0.0236\n",
      "Epoch 85/100\n",
      "387/387 - 8s - loss: 2.4887 - accuracy: 0.4175 - val_loss: 21.7990 - val_accuracy: 0.0268\n",
      "Epoch 86/100\n",
      "387/387 - 8s - loss: 2.4739 - accuracy: 0.4226 - val_loss: 22.3333 - val_accuracy: 0.0268\n",
      "Epoch 87/100\n",
      "387/387 - 8s - loss: 2.4431 - accuracy: 0.4272 - val_loss: 22.1132 - val_accuracy: 0.0275\n",
      "Epoch 88/100\n",
      "387/387 - 8s - loss: 2.4143 - accuracy: 0.4390 - val_loss: 22.6186 - val_accuracy: 0.0297\n",
      "Epoch 89/100\n",
      "387/387 - 8s - loss: 2.4108 - accuracy: 0.4349 - val_loss: 22.5266 - val_accuracy: 0.0272\n",
      "Epoch 90/100\n",
      "387/387 - 8s - loss: 2.3923 - accuracy: 0.4436 - val_loss: 22.8232 - val_accuracy: 0.0268\n",
      "Epoch 91/100\n",
      "387/387 - 8s - loss: 2.3545 - accuracy: 0.4477 - val_loss: 22.9694 - val_accuracy: 0.0297\n",
      "Epoch 92/100\n",
      "387/387 - 8s - loss: 2.3349 - accuracy: 0.4505 - val_loss: 23.0405 - val_accuracy: 0.0262\n",
      "Epoch 93/100\n",
      "387/387 - 8s - loss: 2.3192 - accuracy: 0.4604 - val_loss: 23.2753 - val_accuracy: 0.0255\n",
      "Epoch 94/100\n",
      "387/387 - 8s - loss: 2.3017 - accuracy: 0.4615 - val_loss: 23.4796 - val_accuracy: 0.0262\n",
      "Epoch 95/100\n",
      "387/387 - 8s - loss: 2.2747 - accuracy: 0.4718 - val_loss: 23.5700 - val_accuracy: 0.0249\n",
      "Epoch 96/100\n",
      "387/387 - 8s - loss: 2.2505 - accuracy: 0.4734 - val_loss: 23.7343 - val_accuracy: 0.0275\n",
      "Epoch 97/100\n",
      "387/387 - 8s - loss: 2.2312 - accuracy: 0.4772 - val_loss: 23.9450 - val_accuracy: 0.0246\n",
      "Epoch 98/100\n",
      "387/387 - 8s - loss: 2.2054 - accuracy: 0.4821 - val_loss: 23.9957 - val_accuracy: 0.0262\n",
      "Epoch 99/100\n",
      "387/387 - 8s - loss: 2.1873 - accuracy: 0.4906 - val_loss: 24.1086 - val_accuracy: 0.0239\n",
      "Epoch 100/100\n",
      "387/387 - 8s - loss: 2.1728 - accuracy: 0.4940 - val_loss: 24.3040 - val_accuracy: 0.0288\n"
     ]
    }
   ],
   "source": [
    " history = model.fit(predictors, label, epochs=100,validation_split = 0.2, verbose=2)"
   ]
  },
  {
   "cell_type": "code",
   "execution_count": 52,
   "metadata": {
    "colab": {
     "base_uri": "https://localhost:8080/",
     "height": 542
    },
    "colab_type": "code",
    "id": "1fXTEO3GJ282",
    "outputId": "4dc35abf-c46c-4b49-9bd3-f1d78a8c6ffc"
   },
   "outputs": [
    {
     "data": {
      "image/png": "[encoded data removed]",
      "text/plain": [
       "<Figure size 432x288 with 1 Axes>"
      ]
     },
     "metadata": {
      "needs_background": "light",
      "tags": []
     },
     "output_type": "display_data"
    },
    {
     "data": {
      "image/png": "[encoded data removed]",
      "text/plain": [
       "<Figure size 432x288 with 1 Axes>"
      ]
     },
     "metadata": {
      "needs_background": "light",
      "tags": []
     },
     "output_type": "display_data"
    }
   ],
   "source": [
    "\n",
    "import matplotlib.pyplot as plt\n",
    "\n",
    "\n",
    "def plot_graphs(history, string):\n",
    "  plt.plot(history.history[string])\n",
    "  plt.plot(history.history['val_'+string])\n",
    "  plt.xlabel(\"Epochs\")\n",
    "  plt.ylabel(string)\n",
    "  plt.legend([string, 'val_'+string])\n",
    "  plt.show()\n",
    "\n",
    "plot_graphs(history, 'accuracy')\n",
    "plot_graphs(history, 'loss')"
   ]
  },
  {
   "cell_type": "code",
   "execution_count": 53,
   "metadata": {
    "colab": {
     "base_uri": "https://localhost:8080/",
     "height": 54
    },
    "colab_type": "code",
    "id": "6Vc6PHgxa6Hm",
    "outputId": "ffa23692-8075-426d-ed79-2ea3067f658b"
   },
   "outputs": [
    {
     "name": "stdout",
     "output_type": "stream",
     "text": [
      "Help me Obi Wan Kenobi, you're my only hope i win and anon spies one child of thee behind best shall praise so beauty's former crime child of it ' bright dead child happy tend kings kings thee thee thee thee beauty's love sweet sorrow committed dost ill forth decay one confined date of beauty's former child child all it ' see show beauty's words tell it subscribes praise thee thee thee aught in my mind young true loving ' say young mayst praise doth flatter me doth about ' dearer love doth stand true slave good near child of deeds of heart be gone up it thou art\n"
     ]
    }
   ],
   "source": [
    "seed_text = \"Help me Obi Wan Kenobi, you're my only hope\"\n",
    "next_words = 100\n",
    "  \n",
    "for _ in range(next_words):\n",
    "\ttoken_list = tokenizer.texts_to_sequences([seed_text])[0]\n",
    "\ttoken_list = pad_sequences([token_list], maxlen=max_sequence_len-1, padding='pre')\n",
    "\tpredicted = model.predict_classes(token_list, verbose=0)\n",
    "\toutput_word = \"\"\n",
    "\tfor word, index in tokenizer.word_index.items():\n",
    "\t\tif index == predicted:\n",
    "\t\t\toutput_word = word\n",
    "\t\t\tbreak\n",
    "\tseed_text += \" \" + output_word\n",
    "print(seed_text)"
   ]
  }
 ],
 "metadata": {
  "accelerator": "GPU",
  "colab": {
   "name": "NLP_Week4_Exercise_Shakespeare_Question.ipynb",
   "provenance": [],
   "toc_visible": true
  },
  "kernelspec": {
   "display_name": "Python 3",
   "language": "python",
   "name": "python3"
  },
  "language_info": {
   "codemirror_mode": {
    "name": "ipython",
    "version": 3
   },
   "file_extension": ".py",
   "mimetype": "text/x-python",
   "name": "python",
   "nbconvert_exporter": "python",
   "pygments_lexer": "ipython3",
   "version": "3.8.3"
  }
 },
 "nbformat": 4,
 "nbformat_minor": 1
}
