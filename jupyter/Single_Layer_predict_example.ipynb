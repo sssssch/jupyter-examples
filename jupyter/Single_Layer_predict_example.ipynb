{
  "nbformat": 4,
  "nbformat_minor": 0,
  "metadata": {
    "colab": {
      "name": "S+P Week 2 Lesson 2.ipynb",
      "provenance": [],
      "toc_visible": true
    },
    "kernelspec": {
      "display_name": "Python 3",
      "name": "python3"
    },
    "accelerator": "GPU"
  },
  "cells": [
    {
      "cell_type": "code",
      "metadata": {
        "colab_type": "code",
        "id": "-pwam8szRReT",
        "colab": {}
      },
      "source": [
        "try:\n",
        "  # %tensorflow_version only exists in Colab.\n",
        "  %tensorflow_version 2.x\n",
        "except Exception:\n",
        "  pass"
      ],
      "execution_count": 1,
      "outputs": []
    },
    {
      "cell_type": "code",
      "metadata": {
        "colab_type": "code",
        "id": "BOjujz601HcS",
        "colab": {
          "base_uri": "https://localhost:8080/",
          "height": 34
        },
        "outputId": "24f10f22-abef-42b6-8462-2045c8a34e44"
      },
      "source": [
        "import tensorflow as tf\n",
        "import numpy as np\n",
        "import matplotlib.pyplot as plt\n",
        "print(tf.__version__)"
      ],
      "execution_count": 2,
      "outputs": [
        {
          "output_type": "stream",
          "text": [
            "2.2.0\n"
          ],
          "name": "stdout"
        }
      ]
    },
    {
      "cell_type": "code",
      "metadata": {
        "colab_type": "code",
        "id": "Zswl7jRtGzkk",
        "colab": {}
      },
      "source": [
        "def plot_series(time, series, format=\"-\", start=0, end=None):\n",
        "    plt.plot(time[start:end], series[start:end], format)\n",
        "    plt.xlabel(\"Time\")\n",
        "    plt.ylabel(\"Value\")\n",
        "    plt.grid(True)\n",
        "\n",
        "def trend(time, slope=0):\n",
        "    return slope * time\n",
        "\n",
        "def seasonal_pattern(season_time):\n",
        "    \"\"\"Just an arbitrary pattern, you can change it if you wish\"\"\"\n",
        "    return np.where(season_time < 0.4,\n",
        "                    np.cos(season_time * 2 * np.pi),\n",
        "                    1 / np.exp(3 * season_time))\n",
        "\n",
        "def seasonality(time, period, amplitude=1, phase=0):\n",
        "    \"\"\"Repeats the same pattern at each period\"\"\"\n",
        "    season_time = ((time + phase) % period) / period\n",
        "    return amplitude * seasonal_pattern(season_time)\n",
        "\n",
        "def noise(time, noise_level=1, seed=None):\n",
        "    rnd = np.random.RandomState(seed)\n",
        "    return rnd.randn(len(time)) * noise_level\n",
        "\n",
        "time = np.arange(4 * 365 + 1, dtype=\"float32\")\n",
        "baseline = 10\n",
        "series = trend(time, 0.1)  \n",
        "baseline = 10\n",
        "amplitude = 40\n",
        "slope = 0.05\n",
        "noise_level = 5\n",
        "\n",
        "# Create the series\n",
        "series = baseline + trend(time, slope) + seasonality(time, period=365, amplitude=amplitude)\n",
        "# Update with noise\n",
        "series += noise(time, noise_level, seed=42)\n",
        "\n",
        "split_time = 1000\n",
        "time_train = time[:split_time]\n",
        "x_train = series[:split_time]\n",
        "time_valid = time[split_time:]\n",
        "x_valid = series[split_time:]\n",
        "\n",
        "window_size = 20\n",
        "batch_size = 32\n",
        "shuffle_buffer_size = 1000"
      ],
      "execution_count": 3,
      "outputs": []
    },
    {
      "cell_type": "code",
      "metadata": {
        "colab_type": "code",
        "id": "4sTTIOCbyShY",
        "colab": {}
      },
      "source": [
        "def windowed_dataset(series, window_size, batch_size, shuffle_buffer):\n",
        "  dataset = tf.data.Dataset.from_tensor_slices(series)\n",
        "  dataset = dataset.window(window_size + 1, shift=1, drop_remainder=True)\n",
        "  dataset = dataset.flat_map(lambda window: window.batch(window_size + 1))\n",
        "  dataset = dataset.shuffle(shuffle_buffer).map(lambda window: (window[:-1], window[-1]))\n",
        "  dataset = dataset.batch(batch_size).prefetch(1)\n",
        "  return dataset"
      ],
      "execution_count": 9,
      "outputs": []
    },
    {
      "cell_type": "code",
      "metadata": {
        "colab_type": "code",
        "id": "ou-WmE2AXu6B",
        "colab": {
          "base_uri": "https://localhost:8080/",
          "height": 1000
        },
        "outputId": "8d448760-4ba5-423d-e028-896eb1b8a93b"
      },
      "source": [
        "dataset = windowed_dataset(x_train, window_size, batch_size, shuffle_buffer_size)\n",
        "print(dataset)\n",
        "l0 = tf.keras.layers.Dense(1, input_shape=[window_size])\n",
        "model = tf.keras.models.Sequential([l0])\n",
        "\n",
        "\n",
        "model.compile(loss=\"mse\", optimizer=tf.keras.optimizers.SGD(lr=1e-6, momentum=0.9))\n",
        "model.fit(dataset,epochs=100,verbose=2)\n",
        "\n",
        "print(\"Layer weights {}\".format(l0.get_weights()))\n"
      ],
      "execution_count": 11,
      "outputs": [
        {
          "output_type": "stream",
          "text": [
            "<PrefetchDataset shapes: ((None, None), (None,)), types: (tf.float32, tf.float32)>\n",
            "Epoch 1/100\n",
            "31/31 - 0s - loss: 2682.2888\n",
            "Epoch 2/100\n",
            "31/31 - 0s - loss: 265.8561\n",
            "Epoch 3/100\n",
            "31/31 - 0s - loss: 144.1694\n",
            "Epoch 4/100\n",
            "31/31 - 0s - loss: 132.8741\n",
            "Epoch 5/100\n",
            "31/31 - 0s - loss: 125.2411\n",
            "Epoch 6/100\n",
            "31/31 - 0s - loss: 119.3253\n",
            "Epoch 7/100\n",
            "31/31 - 0s - loss: 112.3292\n",
            "Epoch 8/100\n",
            "31/31 - 0s - loss: 107.1699\n",
            "Epoch 9/100\n",
            "31/31 - 0s - loss: 102.9945\n",
            "Epoch 10/100\n",
            "31/31 - 0s - loss: 100.0085\n",
            "Epoch 11/100\n",
            "31/31 - 0s - loss: 95.8258\n",
            "Epoch 12/100\n",
            "31/31 - 0s - loss: 92.9926\n",
            "Epoch 13/100\n",
            "31/31 - 0s - loss: 90.6479\n",
            "Epoch 14/100\n",
            "31/31 - 0s - loss: 87.8242\n",
            "Epoch 15/100\n",
            "31/31 - 0s - loss: 86.7386\n",
            "Epoch 16/100\n",
            "31/31 - 0s - loss: 83.8090\n",
            "Epoch 17/100\n",
            "31/31 - 0s - loss: 81.8847\n",
            "Epoch 18/100\n",
            "31/31 - 0s - loss: 81.1281\n",
            "Epoch 19/100\n",
            "31/31 - 0s - loss: 77.7973\n",
            "Epoch 20/100\n",
            "31/31 - 0s - loss: 76.7122\n",
            "Epoch 21/100\n",
            "31/31 - 0s - loss: 75.7111\n",
            "Epoch 22/100\n",
            "31/31 - 0s - loss: 73.1375\n",
            "Epoch 23/100\n",
            "31/31 - 0s - loss: 71.7513\n",
            "Epoch 24/100\n",
            "31/31 - 0s - loss: 70.9694\n",
            "Epoch 25/100\n",
            "31/31 - 0s - loss: 69.5441\n",
            "Epoch 26/100\n",
            "31/31 - 0s - loss: 68.0520\n",
            "Epoch 27/100\n",
            "31/31 - 0s - loss: 68.1233\n",
            "Epoch 28/100\n",
            "31/31 - 0s - loss: 66.4352\n",
            "Epoch 29/100\n",
            "31/31 - 0s - loss: 65.6287\n",
            "Epoch 30/100\n",
            "31/31 - 0s - loss: 64.4398\n",
            "Epoch 31/100\n",
            "31/31 - 0s - loss: 63.5113\n",
            "Epoch 32/100\n",
            "31/31 - 0s - loss: 63.1132\n",
            "Epoch 33/100\n",
            "31/31 - 0s - loss: 63.9287\n",
            "Epoch 34/100\n",
            "31/31 - 0s - loss: 61.1765\n",
            "Epoch 35/100\n",
            "31/31 - 0s - loss: 60.5476\n",
            "Epoch 36/100\n",
            "31/31 - 0s - loss: 60.3665\n",
            "Epoch 37/100\n",
            "31/31 - 0s - loss: 59.7179\n",
            "Epoch 38/100\n",
            "31/31 - 0s - loss: 58.9751\n",
            "Epoch 39/100\n",
            "31/31 - 0s - loss: 58.1376\n",
            "Epoch 40/100\n",
            "31/31 - 0s - loss: 59.0449\n",
            "Epoch 41/100\n",
            "31/31 - 0s - loss: 57.1922\n",
            "Epoch 42/100\n",
            "31/31 - 0s - loss: 56.5513\n",
            "Epoch 43/100\n",
            "31/31 - 0s - loss: 55.8099\n",
            "Epoch 44/100\n",
            "31/31 - 0s - loss: 56.2080\n",
            "Epoch 45/100\n",
            "31/31 - 0s - loss: 56.0039\n",
            "Epoch 46/100\n",
            "31/31 - 0s - loss: 54.4678\n",
            "Epoch 47/100\n",
            "31/31 - 0s - loss: 53.9050\n",
            "Epoch 48/100\n",
            "31/31 - 0s - loss: 53.6702\n",
            "Epoch 49/100\n",
            "31/31 - 0s - loss: 53.2742\n",
            "Epoch 50/100\n",
            "31/31 - 0s - loss: 53.6748\n",
            "Epoch 51/100\n",
            "31/31 - 0s - loss: 53.0989\n",
            "Epoch 52/100\n",
            "31/31 - 0s - loss: 52.5581\n",
            "Epoch 53/100\n",
            "31/31 - 0s - loss: 52.5862\n",
            "Epoch 54/100\n",
            "31/31 - 0s - loss: 51.5724\n",
            "Epoch 55/100\n",
            "31/31 - 0s - loss: 51.1538\n",
            "Epoch 56/100\n",
            "31/31 - 0s - loss: 50.8157\n",
            "Epoch 57/100\n",
            "31/31 - 0s - loss: 51.0376\n",
            "Epoch 58/100\n",
            "31/31 - 0s - loss: 50.3002\n",
            "Epoch 59/100\n",
            "31/31 - 0s - loss: 50.7172\n",
            "Epoch 60/100\n",
            "31/31 - 0s - loss: 50.2462\n",
            "Epoch 61/100\n",
            "31/31 - 0s - loss: 49.6843\n",
            "Epoch 62/100\n",
            "31/31 - 0s - loss: 49.6054\n",
            "Epoch 63/100\n",
            "31/31 - 0s - loss: 49.0426\n",
            "Epoch 64/100\n",
            "31/31 - 0s - loss: 49.2711\n",
            "Epoch 65/100\n",
            "31/31 - 0s - loss: 49.5748\n",
            "Epoch 66/100\n",
            "31/31 - 0s - loss: 49.0832\n",
            "Epoch 67/100\n",
            "31/31 - 0s - loss: 48.7544\n",
            "Epoch 68/100\n",
            "31/31 - 0s - loss: 48.4969\n",
            "Epoch 69/100\n",
            "31/31 - 0s - loss: 47.7788\n",
            "Epoch 70/100\n",
            "31/31 - 0s - loss: 47.6052\n",
            "Epoch 71/100\n",
            "31/31 - 0s - loss: 48.0909\n",
            "Epoch 72/100\n",
            "31/31 - 0s - loss: 48.0084\n",
            "Epoch 73/100\n",
            "31/31 - 0s - loss: 47.3672\n",
            "Epoch 74/100\n",
            "31/31 - 0s - loss: 47.1004\n",
            "Epoch 75/100\n",
            "31/31 - 0s - loss: 47.0432\n",
            "Epoch 76/100\n",
            "31/31 - 0s - loss: 46.6827\n",
            "Epoch 77/100\n",
            "31/31 - 0s - loss: 46.6227\n",
            "Epoch 78/100\n",
            "31/31 - 0s - loss: 46.6957\n",
            "Epoch 79/100\n",
            "31/31 - 0s - loss: 46.4459\n",
            "Epoch 80/100\n",
            "31/31 - 0s - loss: 46.3487\n",
            "Epoch 81/100\n",
            "31/31 - 0s - loss: 46.1193\n",
            "Epoch 82/100\n",
            "31/31 - 0s - loss: 46.4023\n",
            "Epoch 83/100\n",
            "31/31 - 0s - loss: 45.9180\n",
            "Epoch 84/100\n",
            "31/31 - 0s - loss: 46.0006\n",
            "Epoch 85/100\n",
            "31/31 - 0s - loss: 45.7637\n",
            "Epoch 86/100\n",
            "31/31 - 0s - loss: 46.4841\n",
            "Epoch 87/100\n",
            "31/31 - 0s - loss: 46.0010\n",
            "Epoch 88/100\n",
            "31/31 - 0s - loss: 45.6912\n",
            "Epoch 89/100\n",
            "31/31 - 0s - loss: 45.7179\n",
            "Epoch 90/100\n",
            "31/31 - 0s - loss: 45.4629\n",
            "Epoch 91/100\n",
            "31/31 - 0s - loss: 45.3607\n",
            "Epoch 92/100\n",
            "31/31 - 0s - loss: 45.6874\n",
            "Epoch 93/100\n",
            "31/31 - 0s - loss: 45.2423\n",
            "Epoch 94/100\n",
            "31/31 - 0s - loss: 45.0482\n",
            "Epoch 95/100\n",
            "31/31 - 0s - loss: 45.1075\n",
            "Epoch 96/100\n",
            "31/31 - 0s - loss: 45.7396\n",
            "Epoch 97/100\n",
            "31/31 - 0s - loss: 44.8425\n",
            "Epoch 98/100\n",
            "31/31 - 0s - loss: 44.6973\n",
            "Epoch 99/100\n",
            "31/31 - 0s - loss: 44.5579\n",
            "Epoch 100/100\n",
            "31/31 - 0s - loss: 44.4125\n",
            "Layer weights [array([[-0.02806919],\n",
            "       [-0.00639428],\n",
            "       [-0.00274886],\n",
            "       [-0.04262798],\n",
            "       [ 0.11490721],\n",
            "       [ 0.0089446 ],\n",
            "       [-0.09734558],\n",
            "       [ 0.08461769],\n",
            "       [-0.01972101],\n",
            "       [-0.04280135],\n",
            "       [ 0.05288219],\n",
            "       [-0.10286663],\n",
            "       [ 0.02229239],\n",
            "       [ 0.10817337],\n",
            "       [-0.06851532],\n",
            "       [ 0.07933715],\n",
            "       [ 0.05622319],\n",
            "       [ 0.16991335],\n",
            "       [ 0.22655703],\n",
            "       [ 0.46345437]], dtype=float32), array([0.01979557], dtype=float32)]\n"
          ],
          "name": "stdout"
        }
      ]
    },
    {
      "cell_type": "code",
      "metadata": {
        "colab_type": "code",
        "id": "-gtVJuLVxR-M",
        "colab": {
          "base_uri": "https://localhost:8080/",
          "height": 388
        },
        "outputId": "1e8093ca-3f0a-484d-a19f-61b3822aedc0"
      },
      "source": [
        "forecast = []\n",
        "\n",
        "for time in range(len(series) - window_size):\n",
        "  forecast.append(model.predict(series[time:time + window_size][np.newaxis]))\n",
        "\n",
        "forecast = forecast[split_time-window_size:]\n",
        "results = np.array(forecast)[:, 0, 0]\n",
        "\n",
        "\n",
        "plt.figure(figsize=(10, 6))\n",
        "\n",
        "plot_series(time_valid, x_valid)\n",
        "plot_series(time_valid, results)"
      ],
      "execution_count": 12,
      "outputs": [
        {
          "output_type": "display_data",
          "data": {
            "image/png": "[encoded data removed]",
            "text/plain": [
              "<Figure size 720x432 with 1 Axes>"
            ]
          },
          "metadata": {
            "tags": [],
            "needs_background": "light"
          }
        }
      ]
    },
    {
      "cell_type": "code",
      "metadata": {
        "colab_type": "code",
        "id": "hR2BO0Dai_ZT",
        "colab": {
          "base_uri": "https://localhost:8080/",
          "height": 34
        },
        "outputId": "4f6b3f1d-a0fd-417c-8c20-b4d3c563d95c"
      },
      "source": [
        "tf.keras.metrics.mean_absolute_error(x_valid, results).numpy()"
      ],
      "execution_count": 13,
      "outputs": [
        {
          "output_type": "execute_result",
          "data": {
            "text/plain": [
              "5.1464787"
            ]
          },
          "metadata": {
            "tags": []
          },
          "execution_count": 13
        }
      ]
    }
  ]
}