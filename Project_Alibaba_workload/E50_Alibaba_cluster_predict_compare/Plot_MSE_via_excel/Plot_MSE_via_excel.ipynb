{
  "nbformat": 4,
  "nbformat_minor": 0,
  "metadata": {
    "colab": {
      "name": "Sklearn_dataset_test.ipynb",
      "provenance": []
    },
    "kernelspec": {
      "name": "python3",
      "display_name": "Python 3"
    },
    "accelerator": "GPU"
  },
  "cells": [
    {
      "cell_type": "code",
      "metadata": {
        "id": "gSQEQx_SOFvJ",
        "colab_type": "code",
        "colab": {
          "base_uri": "https://localhost:8080/",
          "height": 255
        },
        "outputId": "667125f3-59c6-43e8-d211-408ad594b3e9"
      },
      "source": [
        "from math import sqrt\n",
        "import tensorflow as tf\n",
        "from tensorflow import keras\n",
        "import pandas as pd\n",
        "from tensorflow.keras import Sequential\n",
        "from tensorflow.keras.layers import LSTM, Dense, Dropout, Conv1D, GRU\n",
        "from tensorflow.keras.losses import mean_squared_error\n",
        "from numpy.core._multiarray_umath import concatenate\n",
        "from sklearn.preprocessing import MinMaxScaler\n",
        "import matplotlib.pyplot as plt\n",
        "import numpy\n",
        "from tensorflow.keras.layers import Layer\n",
        "\n",
        "\n",
        "# supervised监督学习函数\n",
        "def series_to_supervised(data, columns, n_in=1, n_out=1, dropnan=True):\n",
        "    n_vars = 1 if isinstance(data, list) else data.shape[1]\n",
        "    df = pd.DataFrame(data)\n",
        "    cols, names = list(), list()\n",
        "    # input sequence (t-n, ... t-1)\n",
        "    for i in range(n_in, 0, -1):\n",
        "        cols.append(df.shift(i))\n",
        "        names += [('%s%d(t-%d)' % (columns[j], j + 1, i))\n",
        "                  for j in range(n_vars)]\n",
        "    # forecast sequence (t, t+1, ... t+n)\n",
        "    for i in range(0, n_out):\n",
        "        cols.append(df.shift(-i))\n",
        "        if i == 0:\n",
        "            names += [('%s%d(t)' % (columns[j], j + 1)) for j in range(n_vars)]\n",
        "        else:\n",
        "            names += [('%s%d(t+%d)' % (columns[j], j + 1, i))\n",
        "                      for j in range(n_vars)]\n",
        "    # put it all together\n",
        "    agg = pd.concat(cols, axis=1)\n",
        "    agg.columns = names\n",
        "    # drop rows with NaN values\n",
        "    if dropnan:\n",
        "        clean_agg = agg.dropna()\n",
        "    return clean_agg\n",
        "    # return agg\n",
        "\n",
        "\n",
        "dataset = pd.read_csv(\n",
        "    'Machine_usage_groupby.csv')\n",
        "\n",
        "dataset_columns = dataset.columns\n",
        "values = dataset.values\n",
        "print(dataset)\n",
        "\n",
        "# 归一化处理\n",
        "scaler = MinMaxScaler(feature_range=(0, 1))\n",
        "scaled = scaler.fit_transform(values)\n",
        "\n",
        "\n",
        "# 监督学习\n",
        "reframed = series_to_supervised(scaled, dataset_columns, 1, 1)\n",
        "values = reframed.values\n",
        "\n",
        "# 学习与检测数据的划分\n",
        "n_train_hours = 40000\n",
        "train = values[:n_train_hours, :]\n",
        "test = values[n_train_hours:, :]\n",
        "\n",
        "\n",
        "# 监督学习结果划分\n",
        "train_x, train_y = train[:, :-1], train[:, -1]\n",
        "test_x, test_y = test[:, :-1], test[:, -1]\n",
        "\n",
        "# 为了在LSTM中应用该数据，需要将其格式转化为3D format，即[Samples, timesteps, features]\n",
        "train_X = train_x.reshape((train_x.shape[0], 1, train_x.shape[1]))\n",
        "test_X = test_x.reshape((test_x.shape[0], 1, test_x.shape[1]))"
      ],
      "execution_count": 69,
      "outputs": [
        {
          "output_type": "stream",
          "text": [
            "         Time  cpu_util_percent  ...  net_out  disk_usage_percent\n",
            "0           0           16.1270  ...  27.6575              4.0867\n",
            "1          10           21.5878  ...  27.6564              4.0425\n",
            "2          20           17.3193  ...  27.6266              4.0546\n",
            "3          30           16.8287  ...  27.6489              4.0620\n",
            "4          40           18.6518  ...  27.6149              4.0390\n",
            "...       ...               ...  ...      ...                 ...\n",
            "67237  691150           39.1515  ...  37.6852              4.8983\n",
            "67238  691160           37.5635  ...  37.8032              4.8968\n",
            "67239  691170           36.3224  ...  37.7655              4.8918\n",
            "67240  691180           36.4804  ...  37.7900              4.9139\n",
            "67241  691190           37.1939  ...  37.7631              4.8518\n",
            "\n",
            "[67242 rows x 6 columns]\n"
          ],
          "name": "stdout"
        }
      ]
    },
    {
      "cell_type": "code",
      "metadata": {
        "id": "ZeO27wH6OF0B",
        "colab_type": "code",
        "colab": {
          "base_uri": "https://localhost:8080/",
          "height": 1000
        },
        "outputId": "2073e2b6-c84e-445b-a35f-c2f1d91f634e"
      },
      "source": [
        "model = Sequential()\n",
        "model.add(\n",
        "    GRU(\n",
        "        32,\n",
        "        input_shape=(\n",
        "            train_X.shape[1],\n",
        "            train_X.shape[2]),\n",
        "        return_sequences=True))\n",
        "model.add(GRU(16, input_shape=(train_X.shape[1], train_X.shape[2])))\n",
        "model.add(Dense(16, activation=\"relu\"))\n",
        "model.add(Dense(1))\n",
        "model.compile(loss=tf.keras.losses.Huber(),\n",
        "    optimizer='adam',\n",
        "    metrics=[\"mse\"])\n",
        "history = model.fit(\n",
        "    train_X,\n",
        "    train_y,\n",
        "    epochs=50,\n",
        "    batch_size=72,\n",
        "    validation_data=(\n",
        "        test_X,\n",
        "        test_y),\n",
        "verbose = 2)"
      ],
      "execution_count": 70,
      "outputs": [
        {
          "output_type": "stream",
          "text": [
            "Epoch 1/50\n",
            "556/556 - 3s - loss: 0.0010 - mse: 0.0021 - val_loss: 3.3497e-04 - val_mse: 6.6995e-04\n",
            "Epoch 2/50\n",
            "556/556 - 3s - loss: 3.7172e-04 - mse: 7.4345e-04 - val_loss: 3.6548e-04 - val_mse: 7.3096e-04\n",
            "Epoch 3/50\n",
            "556/556 - 3s - loss: 3.6387e-04 - mse: 7.2775e-04 - val_loss: 3.3043e-04 - val_mse: 6.6086e-04\n",
            "Epoch 4/50\n",
            "556/556 - 3s - loss: 3.6994e-04 - mse: 7.3988e-04 - val_loss: 3.7260e-04 - val_mse: 7.4520e-04\n",
            "Epoch 5/50\n",
            "556/556 - 3s - loss: 3.5986e-04 - mse: 7.1971e-04 - val_loss: 3.5510e-04 - val_mse: 7.1019e-04\n",
            "Epoch 6/50\n",
            "556/556 - 3s - loss: 3.6517e-04 - mse: 7.3035e-04 - val_loss: 4.1922e-04 - val_mse: 8.3843e-04\n",
            "Epoch 7/50\n",
            "556/556 - 3s - loss: 3.5621e-04 - mse: 7.1241e-04 - val_loss: 3.1835e-04 - val_mse: 6.3669e-04\n",
            "Epoch 8/50\n",
            "556/556 - 3s - loss: 3.6016e-04 - mse: 7.2031e-04 - val_loss: 4.0526e-04 - val_mse: 8.1052e-04\n",
            "Epoch 9/50\n",
            "556/556 - 3s - loss: 3.6034e-04 - mse: 7.2068e-04 - val_loss: 3.5015e-04 - val_mse: 7.0029e-04\n",
            "Epoch 10/50\n",
            "556/556 - 3s - loss: 3.5948e-04 - mse: 7.1895e-04 - val_loss: 3.4793e-04 - val_mse: 6.9587e-04\n",
            "Epoch 11/50\n",
            "556/556 - 3s - loss: 3.5535e-04 - mse: 7.1069e-04 - val_loss: 3.2469e-04 - val_mse: 6.4938e-04\n",
            "Epoch 12/50\n",
            "556/556 - 3s - loss: 3.6322e-04 - mse: 7.2644e-04 - val_loss: 3.2606e-04 - val_mse: 6.5212e-04\n",
            "Epoch 13/50\n",
            "556/556 - 3s - loss: 3.5474e-04 - mse: 7.0949e-04 - val_loss: 3.4375e-04 - val_mse: 6.8751e-04\n",
            "Epoch 14/50\n",
            "556/556 - 3s - loss: 3.6238e-04 - mse: 7.2476e-04 - val_loss: 3.2055e-04 - val_mse: 6.4111e-04\n",
            "Epoch 15/50\n",
            "556/556 - 3s - loss: 3.5896e-04 - mse: 7.1792e-04 - val_loss: 5.5121e-04 - val_mse: 0.0011\n",
            "Epoch 16/50\n",
            "556/556 - 3s - loss: 3.6069e-04 - mse: 7.2138e-04 - val_loss: 3.3143e-04 - val_mse: 6.6286e-04\n",
            "Epoch 17/50\n",
            "556/556 - 3s - loss: 3.5795e-04 - mse: 7.1590e-04 - val_loss: 3.3091e-04 - val_mse: 6.6182e-04\n",
            "Epoch 18/50\n",
            "556/556 - 3s - loss: 3.5463e-04 - mse: 7.0925e-04 - val_loss: 3.1886e-04 - val_mse: 6.3772e-04\n",
            "Epoch 19/50\n",
            "556/556 - 3s - loss: 3.5864e-04 - mse: 7.1727e-04 - val_loss: 3.2062e-04 - val_mse: 6.4125e-04\n",
            "Epoch 20/50\n",
            "556/556 - 3s - loss: 3.6049e-04 - mse: 7.2098e-04 - val_loss: 3.4651e-04 - val_mse: 6.9302e-04\n",
            "Epoch 21/50\n",
            "556/556 - 3s - loss: 3.5269e-04 - mse: 7.0537e-04 - val_loss: 3.3146e-04 - val_mse: 6.6293e-04\n",
            "Epoch 22/50\n",
            "556/556 - 3s - loss: 3.6169e-04 - mse: 7.2338e-04 - val_loss: 3.1488e-04 - val_mse: 6.2977e-04\n",
            "Epoch 23/50\n",
            "556/556 - 3s - loss: 3.5589e-04 - mse: 7.1178e-04 - val_loss: 3.2550e-04 - val_mse: 6.5099e-04\n",
            "Epoch 24/50\n",
            "556/556 - 3s - loss: 3.5933e-04 - mse: 7.1866e-04 - val_loss: 3.1799e-04 - val_mse: 6.3598e-04\n",
            "Epoch 25/50\n",
            "556/556 - 3s - loss: 3.5809e-04 - mse: 7.1618e-04 - val_loss: 4.5123e-04 - val_mse: 9.0246e-04\n",
            "Epoch 26/50\n",
            "556/556 - 3s - loss: 3.5297e-04 - mse: 7.0593e-04 - val_loss: 3.1708e-04 - val_mse: 6.3416e-04\n",
            "Epoch 27/50\n",
            "556/556 - 3s - loss: 3.5555e-04 - mse: 7.1109e-04 - val_loss: 3.2466e-04 - val_mse: 6.4933e-04\n",
            "Epoch 28/50\n",
            "556/556 - 3s - loss: 3.5398e-04 - mse: 7.0796e-04 - val_loss: 3.3472e-04 - val_mse: 6.6944e-04\n",
            "Epoch 29/50\n",
            "556/556 - 3s - loss: 3.5432e-04 - mse: 7.0864e-04 - val_loss: 3.3087e-04 - val_mse: 6.6173e-04\n",
            "Epoch 30/50\n",
            "556/556 - 3s - loss: 3.5386e-04 - mse: 7.0773e-04 - val_loss: 3.6055e-04 - val_mse: 7.2111e-04\n",
            "Epoch 31/50\n",
            "556/556 - 3s - loss: 3.5503e-04 - mse: 7.1006e-04 - val_loss: 3.6510e-04 - val_mse: 7.3020e-04\n",
            "Epoch 32/50\n",
            "556/556 - 3s - loss: 3.5272e-04 - mse: 7.0543e-04 - val_loss: 3.2917e-04 - val_mse: 6.5833e-04\n",
            "Epoch 33/50\n",
            "556/556 - 3s - loss: 3.5326e-04 - mse: 7.0652e-04 - val_loss: 3.1059e-04 - val_mse: 6.2117e-04\n",
            "Epoch 34/50\n",
            "556/556 - 3s - loss: 3.5174e-04 - mse: 7.0349e-04 - val_loss: 3.1897e-04 - val_mse: 6.3795e-04\n",
            "Epoch 35/50\n",
            "556/556 - 3s - loss: 3.5393e-04 - mse: 7.0786e-04 - val_loss: 3.8604e-04 - val_mse: 7.7209e-04\n",
            "Epoch 36/50\n",
            "556/556 - 3s - loss: 3.5302e-04 - mse: 7.0604e-04 - val_loss: 3.1980e-04 - val_mse: 6.3961e-04\n",
            "Epoch 37/50\n",
            "556/556 - 3s - loss: 3.5477e-04 - mse: 7.0955e-04 - val_loss: 3.3157e-04 - val_mse: 6.6313e-04\n",
            "Epoch 38/50\n",
            "556/556 - 3s - loss: 3.4970e-04 - mse: 6.9939e-04 - val_loss: 3.1315e-04 - val_mse: 6.2630e-04\n",
            "Epoch 39/50\n",
            "556/556 - 3s - loss: 3.5218e-04 - mse: 7.0436e-04 - val_loss: 3.8729e-04 - val_mse: 7.7458e-04\n",
            "Epoch 40/50\n",
            "556/556 - 3s - loss: 3.5244e-04 - mse: 7.0487e-04 - val_loss: 3.1629e-04 - val_mse: 6.3257e-04\n",
            "Epoch 41/50\n",
            "556/556 - 3s - loss: 3.5515e-04 - mse: 7.1029e-04 - val_loss: 3.8517e-04 - val_mse: 7.7034e-04\n",
            "Epoch 42/50\n",
            "556/556 - 3s - loss: 3.5356e-04 - mse: 7.0712e-04 - val_loss: 3.1851e-04 - val_mse: 6.3702e-04\n",
            "Epoch 43/50\n",
            "556/556 - 3s - loss: 3.5284e-04 - mse: 7.0569e-04 - val_loss: 3.2530e-04 - val_mse: 6.5060e-04\n",
            "Epoch 44/50\n",
            "556/556 - 3s - loss: 3.5039e-04 - mse: 7.0078e-04 - val_loss: 3.2774e-04 - val_mse: 6.5547e-04\n",
            "Epoch 45/50\n",
            "556/556 - 3s - loss: 3.5065e-04 - mse: 7.0130e-04 - val_loss: 3.6807e-04 - val_mse: 7.3613e-04\n",
            "Epoch 46/50\n",
            "556/556 - 3s - loss: 3.4894e-04 - mse: 6.9788e-04 - val_loss: 3.2391e-04 - val_mse: 6.4782e-04\n",
            "Epoch 47/50\n",
            "556/556 - 3s - loss: 3.5163e-04 - mse: 7.0327e-04 - val_loss: 3.9151e-04 - val_mse: 7.8303e-04\n",
            "Epoch 48/50\n",
            "556/556 - 3s - loss: 3.5189e-04 - mse: 7.0378e-04 - val_loss: 3.1443e-04 - val_mse: 6.2886e-04\n",
            "Epoch 49/50\n",
            "556/556 - 3s - loss: 3.5387e-04 - mse: 7.0774e-04 - val_loss: 3.1501e-04 - val_mse: 6.3002e-04\n",
            "Epoch 50/50\n",
            "556/556 - 3s - loss: 3.5227e-04 - mse: 7.0454e-04 - val_loss: 3.2316e-04 - val_mse: 6.4633e-04\n"
          ],
          "name": "stdout"
        }
      ]
    },
    {
      "cell_type": "code",
      "metadata": {
        "id": "fexcVvRkZH4B",
        "colab_type": "code",
        "colab": {
          "base_uri": "https://localhost:8080/",
          "height": 513
        },
        "outputId": "6320383a-2569-4ee7-894b-7d7e6bb6d065"
      },
      "source": [
        "#画图\n",
        "plt.plot(history.history['loss'], label='train')\n",
        "plt.plot(history.history['val_loss'], label='test')\n",
        "plt.legend()\n",
        "plt.show()\n",
        "#画图\n",
        "plt.plot(history.history['mse'], label='train')\n",
        "plt.plot(history.history['val_mse'], label='test')\n",
        "plt.legend()\n",
        "plt.show()"
      ],
      "execution_count": 71,
      "outputs": [
        {
          "output_type": "display_data",
          "data": {
            "image/png": "[encoded data removed]",
            "text/plain": [
              "<Figure size 432x288 with 1 Axes>"
            ]
          },
          "metadata": {
            "tags": [],
            "needs_background": "light"
          }
        },
        {
          "output_type": "display_data",
          "data": {
            "image/png": "[encoded data removed]",
            "text/plain": [
              "<Figure size 432x288 with 1 Axes>"
            ]
          },
          "metadata": {
            "tags": [],
            "needs_background": "light"
          }
        }
      ]
    },
    {
      "cell_type": "code",
      "metadata": {
        "id": "EnRGq_wCp1j3",
        "colab_type": "code",
        "colab": {}
      },
      "source": [
        "# save file\n",
        "# predict\n",
        "\n",
        "yhat = model.predict(test_X)\n",
        "test_X_reshaped = test_X.reshape((test_X.shape[0], test_X.shape[2]))\n",
        "\n",
        "inv_yhat = concatenate((yhat, yhat, test_X_reshaped[:, 1:]), axis=1)\n",
        "inv_yhat = inv_yhat[:, 0]\n",
        "\n",
        "\n",
        "\n",
        "test_y = test_y.reshape((len(test_y), 1))\n",
        "inv_y = concatenate((test_y, test_y, test_X_reshaped[:, 1:]), axis=1)\n",
        "inv_y = inv_y[:, 0]\n",
        "\n",
        "\n",
        "# save as csv  file:inv_yhat,inv_y\n",
        "s = pd.Series(inv_yhat)\n",
        "o = pd.Series(inv_y)\n",
        "s.to_csv('inv_yhat.csv')\n",
        "o.to_csv('inv_y.csv')"
      ],
      "execution_count": 72,
      "outputs": []
    }
  ]
}