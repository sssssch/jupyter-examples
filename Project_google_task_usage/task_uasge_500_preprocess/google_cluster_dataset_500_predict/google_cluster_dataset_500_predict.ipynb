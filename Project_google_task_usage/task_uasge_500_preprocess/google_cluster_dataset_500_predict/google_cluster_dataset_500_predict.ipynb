{
  "nbformat": 4,
  "nbformat_minor": 0,
  "metadata": {
    "colab": {
      "name": "Untitled20.ipynb",
      "provenance": []
    },
    "kernelspec": {
      "name": "python3",
      "display_name": "Python 3"
    }
  },
  "cells": [
    {
      "cell_type": "code",
      "metadata": {
        "id": "meCiDsuS8cwu",
        "colab_type": "code",
        "colab": {
          "base_uri": "https://localhost:8080/",
          "height": 799
        },
        "outputId": "3d70e753-747c-4659-bd5a-cf1ea4bc87da"
      },
      "source": [
        "# -*-coding:utf-8-*-\n",
        "from math import sqrt\n",
        "import tensorflow as tf\n",
        "import pandas as pd\n",
        "from tensorflow.keras import Sequential\n",
        "from tensorflow.keras.layers import Dense, Dropout, Conv1D, GRU\n",
        "from tensorflow.keras.losses import mean_squared_error\n",
        "from numpy.core._multiarray_umath import concatenate\n",
        "from sklearn.preprocessing import MinMaxScaler\n",
        "import matplotlib.pyplot as plt\n",
        "from tensorflow.keras.layers import Layer\n",
        "\n",
        "\n",
        "# supervised监督学习函数\n",
        "\n",
        "\n",
        "def series_to_supervised(data, columns, n_in=1, n_out=1, dropnan=True):\n",
        "    n_vars = 1 if isinstance(data, list) else data.shape[1]\n",
        "    df = pd.DataFrame(data)\n",
        "    cols, names = list(), list()\n",
        "    # input sequence (t-n, ... t-1)\n",
        "    for i in range(n_in, 0, -1):\n",
        "        cols.append(df.shift(i))\n",
        "        names += [('%s%d(t-%d)' % (columns[j], j + 1, i))\n",
        "                  for j in range(n_vars)]\n",
        "    # forecast sequence (t, t+1, ... t+n)\n",
        "    for i in range(0, n_out):\n",
        "        cols.append(df.shift(-i))\n",
        "        if i == 0:\n",
        "            names += [('%s%d(t)' % (columns[j], j + 1)) for j in range(n_vars)]\n",
        "        else:\n",
        "            names += [('%s%d(t+%d)' % (columns[j], j + 1, i))\n",
        "                      for j in range(n_vars)]\n",
        "    # put it all together\n",
        "    agg = pd.concat(cols, axis=1)\n",
        "    agg.columns = names\n",
        "    # drop rows with NaN values\n",
        "    if dropnan:\n",
        "        clean_agg = agg.dropna()\n",
        "    return clean_agg\n",
        "\n",
        "\n",
        "dataset = pd.read_csv(\n",
        "    'test_data_inversed.csv')\n",
        "\n",
        "dataset_columns = dataset.columns\n",
        "values = dataset.values\n",
        "print(dataset)\n",
        "\n",
        "# 归一化处理\n",
        "scaler = MinMaxScaler(feature_range=(0, 1))\n",
        "scaled = scaler.fit_transform(values)\n",
        "\n",
        "\n",
        "# 监督学习\n",
        "reframed = series_to_supervised(scaled, dataset_columns, 1, 1)\n",
        "values = reframed.values\n",
        "\n",
        "# 学习与检测数据的划分\n",
        "n_train_hours = 2000\n",
        "train = values[:n_train_hours, :]\n",
        "test = values[n_train_hours:, :]\n",
        "\n",
        "\n",
        "# 监督学习结果划分\n",
        "train_x, train_y = train[:, :-1], train[:, -1]\n",
        "test_x, test_y = test[:, :-1], test[:, -1]\n",
        "\n",
        "# 为了在LSTM中应用该数据，需要将其格式转化为3D format，即[Samples, timesteps, features]\n",
        "train_X = train_x.reshape((train_x.shape[0], 1, train_x.shape[1]))\n",
        "test_X = test_x.reshape((test_x.shape[0], 1, test_x.shape[1]))\n",
        "\n",
        "model = Sequential()\n",
        "model.add(Conv1D(filters=32, kernel_size=5,\n",
        "                 strides=1, padding=\"causal\",\n",
        "                 activation=\"relu\"))\n",
        "model.add(\n",
        "    GRU(\n",
        "        32,\n",
        "        input_shape=(\n",
        "            train_X.shape[1],\n",
        "            train_X.shape[2]),\n",
        "        return_sequences=True))\n",
        "model.add(GRU(16, input_shape=(train_X.shape[1], train_X.shape[2])))\n",
        "model.add(Dense(16, activation=\"relu\"))\n",
        "model.add(Dropout(0.2))\n",
        "model.add(Dense(1))\n",
        "model.compile(loss=tf.keras.losses.Huber(),\n",
        "              optimizer='adam',\n",
        "              metrics=[\"mse\"])\n",
        "history = model.fit(\n",
        "    train_X,\n",
        "    train_y,\n",
        "    epochs=100,\n",
        "    batch_size=72,\n",
        "    validation_data=(\n",
        "        test_X,\n",
        "        test_y),\n",
        "    verbose=0)\n",
        "\n",
        "# 画图\n",
        "plt.plot(history.history['loss'], label='train')\n",
        "plt.plot(history.history['val_loss'], label='test')\n",
        "plt.legend()\n",
        "plt.show()\n",
        "\n",
        "# make the prediction\n",
        "yHat = model.predict(test_X)\n",
        "\n",
        "inv_yHat = concatenate((yHat, test_x[:, 1:]), axis=1)   # 数组拼接\n",
        "inv_yHat = inv_yHat[:, 0]\n",
        "\n",
        "test_y = test_y.reshape((len(test_y), 1))\n",
        "inv_y = concatenate((test_y, test_x[:, 1:]), axis=1)\n",
        "inv_y = inv_y[:, 0]\n",
        "\n",
        "rmse = sqrt(mean_squared_error(inv_yHat, inv_y))\n",
        "print('Test RMSE: %.8f' % rmse)\n",
        "mse = mean_squared_error(inv_yHat, inv_y)\n",
        "print('Test MSE: %.8f' % mse)\n",
        "\n",
        "yhat = model.predict(test_X)\n",
        "test_X_reshaped = test_X.reshape((test_X.shape[0], test_X.shape[2]))\n",
        "\n",
        "inv_yhat = concatenate((yhat, yhat, test_X_reshaped[:, 1:]), axis=1)\n",
        "inv_yhat = inv_yhat[:, 0]\n",
        "test_y = test_y.reshape((len(test_y), 1))\n",
        "inv_y = concatenate((test_y, test_y, test_X_reshaped[:, 1:]), axis=1)\n",
        "inv_y = inv_y[:, 0]\n",
        "plt.plot(inv_yhat, label='prediction')\n",
        "plt.plot(inv_y, label='real')\n",
        "plt.xlabel('time')\n",
        "plt.ylabel('cpu_usage_percent')\n",
        "plt.legend()\n",
        "plt.show()\n"
      ],
      "execution_count": 2,
      "outputs": [
        {
          "output_type": "stream",
          "text": [
            "      time     cpu     cmu     amu  ...     mdit     mldsu    mcui    scui\n",
            "0        0  0.0189  0.0232  0.0293  ...  0.00181  0.000122  0.0781  0.0105\n",
            "1        1  0.0189  0.0232  0.0293  ...  0.00181  0.000122  0.0781  0.0105\n",
            "2        2  0.0189  0.0232  0.0293  ...  0.00181  0.000122  0.0781  0.0105\n",
            "3        3  0.0189  0.0232  0.0293  ...  0.00181  0.000122  0.0781  0.0105\n",
            "4        4  0.0189  0.0232  0.0293  ...  0.00181  0.000122  0.0781  0.0105\n",
            "...    ...     ...     ...     ...  ...      ...       ...     ...     ...\n",
            "2095  2095  0.0201  0.0228  0.0289  ...  0.00295  0.000120  0.0833  0.0110\n",
            "2096  2096  0.0201  0.0228  0.0288  ...  0.00295  0.000120  0.0833  0.0110\n",
            "2097  2097  0.0201  0.0228  0.0288  ...  0.00295  0.000120  0.0833  0.0110\n",
            "2098  2098  0.0200  0.0228  0.0288  ...  0.00295  0.000120  0.0832  0.0110\n",
            "2099  2099  0.0200  0.0228  0.0288  ...  0.00295  0.000120  0.0832  0.0110\n",
            "\n",
            "[2100 rows x 11 columns]\n"
          ],
          "name": "stdout"
        },
        {
          "output_type": "display_data",
          "data": {
            "image/png": "[encoded data removed]",
            "text/plain": [
              "<Figure size 432x288 with 1 Axes>"
            ]
          },
          "metadata": {
            "tags": [],
            "needs_background": "light"
          }
        },
        {
          "output_type": "stream",
          "text": [
            "Test RMSE: 0.01721952\n",
            "Test MSE: 0.00029651\n"
          ],
          "name": "stdout"
        },
        {
          "output_type": "display_data",
          "data": {
            "image/png": "[encoded data removed]",
            "text/plain": [
              "<Figure size 432x288 with 1 Axes>"
            ]
          },
          "metadata": {
            "tags": [],
            "needs_background": "light"
          }
        }
      ]
    }
  ]
}